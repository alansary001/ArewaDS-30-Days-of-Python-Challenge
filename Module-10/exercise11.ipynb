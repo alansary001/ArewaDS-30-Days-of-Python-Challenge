{
 "cells": [
  {
   "cell_type": "markdown",
   "metadata": {},
   "source": [
    "## Module 11 Modules"
   ]
  },
  {
   "cell_type": "markdown",
   "metadata": {},
   "source": [
    "#### exercise 1"
   ]
  },
  {
   "cell_type": "code",
   "execution_count": 6,
   "metadata": {},
   "outputs": [
    {
     "name": "stdout",
     "output_type": "stream",
     "text": [
      "t71SYt\n",
      "['HEh5sqM5', 'QiSYkLFR', '0TgzeDcw']\n",
      "rgb(201,110,186)\n"
     ]
    }
   ],
   "source": [
    "## Generate a Six-Digit/Character\n",
    "import random\n",
    "import string\n",
    "\n",
    "def random_user_id():\n",
    "    return ''.join(random.choices(string.ascii_letters + string.digits, k=6))\n",
    "\n",
    "# Example\n",
    "print(random_user_id())\n",
    "\n",
    "## Generate User IDs Based on User Input\n",
    "def user_id_gen_by_user():\n",
    "    num_chars = int(input(\"Enter the number of characters for the ID: \"))\n",
    "    num_ids = int(input(\"Enter the number of IDs to generate: \"))\n",
    "    ids = [''.join(random.choices(string.ascii_letters + string.digits, k=num_chars)) for _ in range(num_ids)]\n",
    "    return ids\n",
    "\n",
    "# Example\n",
    "print(user_id_gen_by_user())\n",
    "\n",
    "##Generate RGB Colors\n",
    "def rgb_color_gen():\n",
    "    r = random.randint(0, 255)\n",
    "    g = random.randint(0, 255)\n",
    "    b = random.randint(0, 255)\n",
    "    return f\"rgb({r},{g},{b})\"\n",
    "\n",
    "# Example\n",
    "print(rgb_color_gen())\n",
    "\n",
    "\n"
   ]
  },
  {
   "cell_type": "markdown",
   "metadata": {},
   "source": [
    "#### exercise 2"
   ]
  },
  {
   "cell_type": "code",
   "execution_count": 11,
   "metadata": {},
   "outputs": [
    {
     "name": "stdout",
     "output_type": "stream",
     "text": [
      "['#ad12c9', '#2cd1fe', '#c0f699']\n",
      "['rgb(165,121,79)', 'rgb(67,37,214)', 'rgb(32,162,205)']\n",
      "['#d2596a', '#3cd38a', '#999079']\n",
      "['rgb(95,59,211)', 'rgb(103,112,210)', 'rgb(1,150,247)']\n"
     ]
    }
   ],
   "source": [
    "## List of Hexadecimal Colors\n",
    "def list_of_hexa_colors(num_colors):\n",
    "    return [f\"#{''.join(random.choices('0123456789abcdef', k=6))}\" for _ in range(num_colors)]\n",
    "\n",
    "# Example\n",
    "print(list_of_hexa_colors(3))\n",
    "# Output: ['#a3e12f', '#03ed55', '#eb3d2b']\n",
    "\n",
    "##  List of RGB Colors\n",
    "def list_of_rgb_colors(num_colors):\n",
    "    return [rgb_color_gen() for _ in range(num_colors)]\n",
    "\n",
    "# Example\n",
    "print(list_of_rgb_colors(3))\n",
    "\n",
    "## Generate Hexadecimal or RGB Colors\n",
    "def generate_colors(color_type, num_colors):\n",
    "    if color_type == 'hexa':\n",
    "        return list_of_hexa_colors(num_colors)\n",
    "    elif color_type == 'rgb':\n",
    "        return list_of_rgb_colors(num_colors)\n",
    "    else:\n",
    "        return \"Invalid color type. Use 'hexa' or 'rgb'.\"\n",
    "\n",
    "# Examples\n",
    "print(generate_colors('hexa', 3))\n",
    "\n",
    "print(generate_colors('rgb', 3))\n",
    "\n",
    "\n"
   ]
  },
  {
   "cell_type": "markdown",
   "metadata": {},
   "source": [
    "#### exercise 3"
   ]
  },
  {
   "cell_type": "code",
   "execution_count": 15,
   "metadata": {},
   "outputs": [
    {
     "name": "stdout",
     "output_type": "stream",
     "text": [
      "[2, 5, 4, 3, 1]\n",
      "[4, 1, 5, 0, 2, 9, 7]\n"
     ]
    }
   ],
   "source": [
    "## Shuffle a List\n",
    "from random import shuffle\n",
    "\n",
    "def shuffle_list(lst):\n",
    "    shuffled = lst[:]\n",
    "    shuffle(shuffled)\n",
    "    return shuffled\n",
    "\n",
    "# Example\n",
    "print(shuffle_list([1, 2, 3, 4, 5]))\n",
    "\n",
    "## Generate a Seven Unique Random Numbers\n",
    "def unique_random_numbers():\n",
    "    return random.sample(range(10), 7)\n",
    "\n",
    "# Example\n",
    "print(unique_random_numbers())\n",
    "\n",
    "\n",
    "\n"
   ]
  }
 ],
 "metadata": {
  "kernelspec": {
   "display_name": "Python 3",
   "language": "python",
   "name": "python3"
  },
  "language_info": {
   "codemirror_mode": {
    "name": "ipython",
    "version": 3
   },
   "file_extension": ".py",
   "mimetype": "text/x-python",
   "name": "python",
   "nbconvert_exporter": "python",
   "pygments_lexer": "ipython3",
   "version": "3.13.0"
  }
 },
 "nbformat": 4,
 "nbformat_minor": 2
}
