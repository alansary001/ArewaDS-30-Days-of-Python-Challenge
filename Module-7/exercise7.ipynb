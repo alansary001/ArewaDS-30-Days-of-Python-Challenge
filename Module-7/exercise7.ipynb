{
 "cells": [
  {
   "cell_type": "markdown",
   "metadata": {},
   "source": [
    "### module 7 Conditions"
   ]
  },
  {
   "cell_type": "markdown",
   "metadata": {},
   "source": [
    "#### exercise 1"
   ]
  },
  {
   "cell_type": "code",
   "execution_count": 2,
   "metadata": {},
   "outputs": [
    {
     "name": "stdout",
     "output_type": "stream",
     "text": [
      "You are old enough to learn to drive.\n",
      "We are the same age.\n",
      "4 is greater than 3\n"
     ]
    }
   ],
   "source": [
    "# Age check for driving eligibility\n",
    "age = int(input(\"Enter your age: \"))\n",
    "if age >= 18:\n",
    "    print(\"You are old enough to learn to drive.\")\n",
    "else:\n",
    "    print(f\"You need {18 - age} more years to learn to drive.\")\n",
    "\n",
    "# Compare ages\n",
    "my_age = 34  \n",
    "your_age = int(input(\"Enter your age: \"))\n",
    "if your_age > my_age:\n",
    "    diff = your_age - my_age\n",
    "    print(f\"You are {diff} year{'s' if diff > 1 else ''} older than me.\")\n",
    "elif your_age < my_age:\n",
    "    diff = my_age - your_age\n",
    "    print(f\"I am {diff} year{'s' if diff > 1 else ''} older than you.\")\n",
    "else:\n",
    "    print(\"We are the same age.\")\n",
    "\n",
    "# Compare two numbers\n",
    "a = int(input(\"Enter number one: \"))\n",
    "b = int(input(\"Enter number two: \"))\n",
    "if a > b:\n",
    "    print(f\"{a} is greater than {b}\")\n",
    "elif a < b:\n",
    "    print(f\"{a} is smaller than {b}\")\n",
    "else:\n",
    "    print(f\"{a} is equal to {b}\")\n"
   ]
  },
  {
   "cell_type": "markdown",
   "metadata": {},
   "source": [
    "#### exercise 2"
   ]
  },
  {
   "cell_type": "code",
   "execution_count": 3,
   "metadata": {},
   "outputs": [
    {
     "name": "stdout",
     "output_type": "stream",
     "text": [
      "A\n",
      "The season is Winter.\n",
      "That fruit already exists in the list.\n"
     ]
    }
   ],
   "source": [
    "# Grading system\n",
    "score = int(input(\"Enter your score: \"))\n",
    "if 80 <= score <= 100:\n",
    "    print(\"A\")\n",
    "elif 70 <= score <= 79:\n",
    "    print(\"B\")\n",
    "elif 60 <= score <= 69:\n",
    "    print(\"C\")\n",
    "elif 50 <= score <= 59:\n",
    "    print(\"D\")\n",
    "else:\n",
    "    print(\"F\")\n",
    "\n",
    "# Determine the season\n",
    "month = input(\"Enter the month: \").capitalize()\n",
    "if month in ['September', 'October', 'November']:\n",
    "    print(\"The season is Autumn.\")\n",
    "elif month in ['December', 'January', 'February']:\n",
    "    print(\"The season is Winter.\")\n",
    "elif month in ['March', 'April', 'May']:\n",
    "    print(\"The season is Spring.\")\n",
    "elif month in ['June', 'July', 'August']:\n",
    "    print(\"The season is Summer.\")\n",
    "else:\n",
    "    print(\"Invalid month.\")\n",
    "\n",
    "# Fruit list check\n",
    "fruits = ['banana', 'orange', 'mango', 'lemon']\n",
    "fruit = input(\"Enter a fruit: \").lower()\n",
    "if fruit in fruits:\n",
    "    print(\"That fruit already exists in the list.\")\n",
    "else:\n",
    "    fruits.append(fruit)\n",
    "    print(\"Modified fruit list:\", fruits)\n"
   ]
  },
  {
   "cell_type": "markdown",
   "metadata": {},
   "source": [
    "#### exercise 3"
   ]
  },
  {
   "cell_type": "code",
   "execution_count": 6,
   "metadata": {},
   "outputs": [
    {
     "name": "stdout",
     "output_type": "stream",
     "text": [
      "Middle skill: Node\n",
      "Has Python skill: True\n",
      "He is a back-end developer.\n",
      "Ahmad Mustapha is married and lives in Nigeria.\n"
     ]
    }
   ],
   "source": [
    "person = {\n",
    "    'first_name': 'Ahmad',\n",
    "    'last_name': 'Mustapha',\n",
    "    'age': 34,\n",
    "    'country': 'Nigeria',\n",
    "    'is_married': True,\n",
    "    'skills': ['JavaScript', 'React', 'Node', 'MongoDB', 'Python'],\n",
    "    'address': {\n",
    "        'street': 'Space street',\n",
    "        'zipcode': '02210'\n",
    "    }\n",
    "}\n",
    "\n",
    "# Check if skills key exists and print the middle skill\n",
    "if 'skills' in person:\n",
    "    middle_skill_index = len(person['skills']) // 2\n",
    "    print(\"Middle skill:\", person['skills'][middle_skill_index])\n",
    "\n",
    "# Check if 'Python' is in skills\n",
    "if 'skills' in person:\n",
    "    has_python = 'Python' in person['skills']\n",
    "    print(\"Has Python skill:\", has_python)\n",
    "\n",
    "# Determine developer title\n",
    "skills = set(person['skills'])\n",
    "if skills == {'JavaScript', 'React'}:\n",
    "    print(\"He is a front-end developer.\")\n",
    "elif {'Node', 'Python', 'MongoDB'}.issubset(skills):\n",
    "    print(\"He is a back-end developer.\")\n",
    "elif {'React', 'Node', 'MongoDB'}.issubset(skills):\n",
    "    print(\"He is a full-stack developer.\")\n",
    "else:\n",
    "    print(\"Unknown title.\")\n",
    "\n",
    "# Check if married and lives in Nigeria\n",
    "if person['is_married'] and person['country'] == 'Nigeria':\n",
    "    print(f\"{person['first_name']} {person['last_name']} is married and lives in {person['country']}.\")\n"
   ]
  }
 ],
 "metadata": {
  "kernelspec": {
   "display_name": "Python 3",
   "language": "python",
   "name": "python3"
  },
  "language_info": {
   "codemirror_mode": {
    "name": "ipython",
    "version": 3
   },
   "file_extension": ".py",
   "mimetype": "text/x-python",
   "name": "python",
   "nbconvert_exporter": "python",
   "pygments_lexer": "ipython3",
   "version": "3.13.0"
  }
 },
 "nbformat": 4,
 "nbformat_minor": 2
}
