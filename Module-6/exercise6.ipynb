{
 "cells": [
  {
   "cell_type": "markdown",
   "metadata": {},
   "source": [
    "### exercise 6 Dictionary"
   ]
  },
  {
   "cell_type": "code",
   "execution_count": 1,
   "metadata": {},
   "outputs": [
    {
     "name": "stdout",
     "output_type": "stream",
     "text": [
      "Dog dictionary: {'name': 'Buddy', 'color': 'Brown', 'breed': 'Labrador', 'legs': 4, 'age': 5}\n",
      "Student dictionary: {'first_name': 'Ahmad', 'last_name': 'Mustapha', 'gender': 'Male', 'age': 34, 'marital_status': 'Married', 'skills': ['Python', 'Cybersecurity'], 'country': 'Nigeria', 'city': 'Kano', 'address': '123 Tech Street'}\n",
      "Length of student dictionary: 9\n",
      "Skills: ['Python', 'Cybersecurity'], Data type: <class 'list'>\n",
      "Updated skills: ['Python', 'Cybersecurity', 'Data Analysis', 'Machine Learning']\n",
      "Dictionary keys: ['first_name', 'last_name', 'gender', 'age', 'marital_status', 'skills', 'country', 'city', 'address']\n",
      "Dictionary values: ['Ahmad', 'Mustapha', 'Male', 34, 'Married', ['Python', 'Cybersecurity', 'Data Analysis', 'Machine Learning'], 'Nigeria', 'Kano', '123 Tech Street']\n",
      "Dictionary as list of tuples: [('first_name', 'Ahmad'), ('last_name', 'Mustapha'), ('gender', 'Male'), ('age', 34), ('marital_status', 'Married'), ('skills', ['Python', 'Cybersecurity', 'Data Analysis', 'Machine Learning']), ('country', 'Nigeria'), ('city', 'Kano'), ('address', '123 Tech Street')]\n",
      "Student dictionary after deletion: {'first_name': 'Ahmad', 'last_name': 'Mustapha', 'gender': 'Male', 'age': 34, 'skills': ['Python', 'Cybersecurity', 'Data Analysis', 'Machine Learning'], 'country': 'Nigeria', 'city': 'Kano', 'address': '123 Tech Street'}\n",
      "Dog dictionary deleted.\n"
     ]
    }
   ],
   "source": [
    "# Create an empty dictionary called dog\n",
    "dog = {}\n",
    "\n",
    "# Add name, color, breed, legs, age to the dog dictionary\n",
    "dog['name'] = 'Buddy'\n",
    "dog['color'] = 'Brown'\n",
    "dog['breed'] = 'Labrador'\n",
    "dog['legs'] = 4\n",
    "dog['age'] = 5\n",
    "\n",
    "print(f\"Dog dictionary: {dog}\")\n",
    "\n",
    "# Create a student dictionary\n",
    "student = {\n",
    "    'first_name': 'Ahmad',\n",
    "    'last_name': 'Mustapha',\n",
    "    'gender': 'Male',\n",
    "    'age': 34,\n",
    "    'marital_status': 'Married',\n",
    "    'skills': ['Python', 'Cybersecurity'],\n",
    "    'country': 'Nigeria',\n",
    "    'city': 'Kano',\n",
    "    'address': '123 Tech Street'\n",
    "}\n",
    "\n",
    "print(f\"Student dictionary: {student}\")\n",
    "\n",
    "# Get the length of the student dictionary\n",
    "print(f\"Length of student dictionary: {len(student)}\")\n",
    "\n",
    "# Get the value of skills and check the data type\n",
    "skills = student['skills']\n",
    "print(f\"Skills: {skills}, Data type: {type(skills)}\")\n",
    "\n",
    "# Modify the skills values by adding one or two skills\n",
    "student['skills'].extend(['Data Analysis', 'Machine Learning'])\n",
    "print(f\"Updated skills: {student['skills']}\")\n",
    "\n",
    "# Get the dictionary keys as a list\n",
    "keys = list(student.keys())\n",
    "print(f\"Dictionary keys: {keys}\")\n",
    "\n",
    "# Get the dictionary values as a list\n",
    "values = list(student.values())\n",
    "print(f\"Dictionary values: {values}\")\n",
    "\n",
    "# Change the dictionary to a list of tuples using items() method\n",
    "student_items = list(student.items())\n",
    "print(f\"Dictionary as list of tuples: {student_items}\")\n",
    "\n",
    "# Delete one of the items in the dictionary\n",
    "del student['marital_status']\n",
    "print(f\"Student dictionary after deletion: {student}\")\n",
    "\n",
    "# Delete one of the dictionaries\n",
    "del dog\n",
    "print(\"Dog dictionary deleted.\")\n"
   ]
  }
 ],
 "metadata": {
  "kernelspec": {
   "display_name": "Python 3",
   "language": "python",
   "name": "python3"
  },
  "language_info": {
   "codemirror_mode": {
    "name": "ipython",
    "version": 3
   },
   "file_extension": ".py",
   "mimetype": "text/x-python",
   "name": "python",
   "nbconvert_exporter": "python",
   "pygments_lexer": "ipython3",
   "version": "3.13.0"
  }
 },
 "nbformat": 4,
 "nbformat_minor": 2
}
