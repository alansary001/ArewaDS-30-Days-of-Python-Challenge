{
 "cells": [
  {
   "cell_type": "markdown",
   "metadata": {},
   "source": [
    "### 30 days of python exercises"
   ]
  },
  {
   "cell_type": "code",
   "execution_count": 14,
   "metadata": {},
   "outputs": [
    {
     "name": "stdout",
     "output_type": "stream",
     "text": [
      "<class 'str'>\n",
      "<class 'str'>\n",
      "<class 'str'>\n",
      "<class 'str'>\n",
      "<class 'str'>\n",
      "<class 'int'>\n",
      "<class 'int'>\n",
      "<class 'bool'>\n",
      "<class 'bool'>\n",
      "<class 'bool'>\n",
      "<class 'int'>\n",
      "<class 'str'>\n",
      "<class 'bool'>\n",
      "5\n",
      "8\n",
      "2826.0\n",
      "188.4\n",
      "First Name:  Ahmad\n",
      "Last Name:  Mustapha\n",
      "Country:  Nigeria\n",
      "Age:  34\n",
      "\n",
      "Here is a list of the Python keywords.  Enter any keyword to get more help.\n",
      "\n",
      "False               class               from                or\n",
      "None                continue            global              pass\n",
      "True                def                 if                  raise\n",
      "and                 del                 import              return\n",
      "as                  elif                in                  try\n",
      "assert              else                is                  while\n",
      "async               except              lambda              with\n",
      "await               finally             nonlocal            yield\n",
      "break               for                 not                 \n",
      "\n"
     ]
    }
   ],
   "source": [
    "First_Name = \"Ahmad\" \n",
    "Last_Name = \"Mustapha\"\n",
    "Full_Name = First_Name + \" \" + Last_Name\n",
    "Country = \"Nigeria\"\n",
    "city = \"Kano\"\n",
    "Age = 34\n",
    "year = 2025\n",
    "Is_married = True\n",
    "Is_true = True\n",
    "Is_light_on = False\n",
    "a,b,c = 35, \"Ahmad\", True\n",
    "print(type(First_Name))\n",
    "print(type(Last_Name))\n",
    "print(type(Full_Name))\n",
    "print(type(Country))\n",
    "print(type(city))\n",
    "print(type(Age))\n",
    "print(type(year))\n",
    "print(type(Is_married))\n",
    "print(type(Is_true))\n",
    "print(type(Is_light_on))\n",
    "print(type(a))\n",
    "print(type(b))\n",
    "print(type(c))\n",
    "print(len(First_Name))\n",
    "print(len(Last_Name))\n",
    "num_one = 5\n",
    "num_two = 4\n",
    "_variable = num_one + num_two\n",
    "_variable = num_one - num_two\n",
    "_variable = num_one * num_two\n",
    "_variable = num_one / num_two\n",
    "_variable = num_one % num_two\n",
    "_variable = num_one // num_two\n",
    "_variable = num_one ** num_two\n",
    "radius = 30\n",
    "pi = 3.14\n",
    "area_of_circle = pi * radius ** 2\n",
    "circum_of_circle = 2 * pi * radius\n",
    "print(area_of_circle)\n",
    "print(circum_of_circle)\n",
    "radius = int(input(\"Enter the radius: \"))\n",
    "First_Name = input(\"Enter your first name: \")\n",
    "Last_Name = input(\"Enter your last name: \")\n",
    "Country = input(\"Enter your country: \")\n",
    "Age = int(input(\"Enter your age: \"))\n",
    "print(\"First Name: \", First_Name)\n",
    "print(\"Last Name: \", Last_Name)\n",
    "print(\"Country: \", Country)\n",
    "print(\"Age: \", Age)\n",
    "help(\"keywords\")\n",
    "\n",
    "\n",
    "\n",
    "\n",
    "\n",
    "\n",
    "\n"
   ]
  }
 ],
 "metadata": {
  "kernelspec": {
   "display_name": "Python 3",
   "language": "python",
   "name": "python3"
  },
  "language_info": {
   "codemirror_mode": {
    "name": "ipython",
    "version": 3
   },
   "file_extension": ".py",
   "mimetype": "text/x-python",
   "name": "python",
   "nbconvert_exporter": "python",
   "pygments_lexer": "ipython3",
   "version": "3.13.0"
  }
 },
 "nbformat": 4,
 "nbformat_minor": 2
}
