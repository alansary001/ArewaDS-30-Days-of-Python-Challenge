{
 "cells": [
  {
   "cell_type": "markdown",
   "metadata": {},
   "source": [
    "## exercise 13. Date and File Handling"
   ]
  },
  {
   "cell_type": "markdown",
   "metadata": {},
   "source": [
    "##### exercise 1 Date and Time"
   ]
  },
  {
   "cell_type": "markdown",
   "metadata": {},
   "source": [
    "##### Get Current Day, Month, Year, Hour, Minute, and Timestamp"
   ]
  },
  {
   "cell_type": "code",
   "execution_count": 1,
   "metadata": {},
   "outputs": [
    {
     "name": "stdout",
     "output_type": "stream",
     "text": [
      "Day: 21, Month: 1, Year: 2025\n",
      "Hour: 12, Minute: 55, Second: 57\n",
      "Timestamp: 1737444357.054665\n"
     ]
    }
   ],
   "source": [
    "from datetime import datetime\n",
    "\n",
    "# Current date and time\n",
    "now = datetime.now()\n",
    "\n",
    "# Extract details\n",
    "current_day = now.day\n",
    "current_month = now.month\n",
    "current_year = now.year\n",
    "current_hour = now.hour\n",
    "current_minute = now.minute\n",
    "current_second = now.second\n",
    "current_timestamp = now.timestamp()\n",
    "\n",
    "# Output\n",
    "print(f\"Day: {current_day}, Month: {current_month}, Year: {current_year}\")\n",
    "print(f\"Hour: {current_hour}, Minute: {current_minute}, Second: {current_second}\")\n",
    "print(f\"Timestamp: {current_timestamp}\")\n"
   ]
  },
  {
   "cell_type": "markdown",
   "metadata": {},
   "source": [
    "#### Format the Current Date"
   ]
  },
  {
   "cell_type": "code",
   "execution_count": 2,
   "metadata": {},
   "outputs": [
    {
     "name": "stdout",
     "output_type": "stream",
     "text": [
      "Formatted Date: 01/21/2025, 12:55:57\n"
     ]
    }
   ],
   "source": [
    "# Format the date\n",
    "formatted_date = now.strftime(\"%m/%d/%Y, %H:%M:%S\")\n",
    "\n",
    "# Output\n",
    "print(\"Formatted Date:\", formatted_date)\n"
   ]
  },
  {
   "cell_type": "markdown",
   "metadata": {},
   "source": [
    "#### Convert String \"21 January, 2025\" to a Time Object"
   ]
  },
  {
   "cell_type": "code",
   "execution_count": 4,
   "metadata": {},
   "outputs": [
    {
     "name": "stdout",
     "output_type": "stream",
     "text": [
      "Converted Time: 2025-01-21 00:00:00\n"
     ]
    }
   ],
   "source": [
    "# Given time string\n",
    "time_string = \"21 January, 2025\"\n",
    "\n",
    "# Convert to datetime object\n",
    "converted_time = datetime.strptime(time_string, \"%d %B, %Y\")\n",
    "\n",
    "# Output\n",
    "print(\"Converted Time:\", converted_time)\n"
   ]
  },
  {
   "cell_type": "markdown",
   "metadata": {},
   "source": [
    "#### Calculate the Time Difference Between Now and New Year"
   ]
  },
  {
   "cell_type": "code",
   "execution_count": 5,
   "metadata": {},
   "outputs": [
    {
     "name": "stdout",
     "output_type": "stream",
     "text": [
      "Time until New Year: 344 days, 11:04:02.945335\n"
     ]
    }
   ],
   "source": [
    "# Define the next New Year's date\n",
    "new_year = datetime(current_year + 1, 1, 1)\n",
    "\n",
    "# Calculate the difference\n",
    "time_difference = new_year - now\n",
    "\n",
    "# Output\n",
    "print(\"Time until New Year:\", time_difference)\n"
   ]
  },
  {
   "cell_type": "markdown",
   "metadata": {},
   "source": [
    "#### Calculate the Time Difference Between 1 January 1970 and Now"
   ]
  },
  {
   "cell_type": "code",
   "execution_count": 6,
   "metadata": {},
   "outputs": [
    {
     "name": "stdout",
     "output_type": "stream",
     "text": [
      "Time since 1 January 1970: 20109 days, 12:55:57.054665\n",
      "Time in seconds: 1737464157.054665\n"
     ]
    }
   ],
   "source": [
    "# Define the epoch time (1 January 1970)\n",
    "epoch_time = datetime(1970, 1, 1)\n",
    "\n",
    "# Calculate the difference\n",
    "time_since_epoch = now - epoch_time\n",
    "\n",
    "# Output\n",
    "print(\"Time since 1 January 1970:\", time_since_epoch)\n",
    "print(\"Time in seconds:\", time_since_epoch.total_seconds())\n"
   ]
  },
  {
   "cell_type": "markdown",
   "metadata": {},
   "source": [
    "**Applications of the datetime Module**\n",
    "* Examples of Applications:\n",
    "* Time Series Analysis:  \n",
    "* \n",
    "1. **Analyzing trends over time** (e.g., stock prices, weather patterns).\n",
    "2. **Timestamp Activities in Applications:**\n",
    "* Logging user actions (e.g., login, logout).\n",
    "3. **Scheduling Events**:\n",
    "4. **Automating reminders**, notifications, or tasks.\n",
    "5. **Adding Posts to Blogs:**\n",
    "6. **Displaying the creation time of a blog post.**\n",
    "7. Date Manipulations:\n",
    "* Adding/subtracting days, weeks, or months to/from a given date."
   ]
  }
 ],
 "metadata": {
  "kernelspec": {
   "display_name": "Python 3",
   "language": "python",
   "name": "python3"
  },
  "language_info": {
   "codemirror_mode": {
    "name": "ipython",
    "version": 3
   },
   "file_extension": ".py",
   "mimetype": "text/x-python",
   "name": "python",
   "nbconvert_exporter": "python",
   "pygments_lexer": "ipython3",
   "version": "3.13.0"
  }
 },
 "nbformat": 4,
 "nbformat_minor": 2
}
