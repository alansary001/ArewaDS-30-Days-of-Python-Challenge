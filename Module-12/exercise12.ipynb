{
 "cells": [
  {
   "cell_type": "markdown",
   "metadata": {},
   "source": [
    "## Module 12 Regular Expressions "
   ]
  },
  {
   "cell_type": "markdown",
   "metadata": {},
   "source": [
    "#### exercise 1"
   ]
  },
  {
   "cell_type": "markdown",
   "metadata": {},
   "source": [
    "#### frequent word used in a sentence "
   ]
  },
  {
   "cell_type": "code",
   "execution_count": 1,
   "metadata": {},
   "outputs": [
    {
     "name": "stdout",
     "output_type": "stream",
     "text": [
      "Most frequent word and its count: [('love', 6)]\n"
     ]
    }
   ],
   "source": [
    "from collections import Counter\n",
    "import re\n",
    "\n",
    "# The given paragraph\n",
    "paragraph = \"\"\"I love teaching. If you do not love teaching what else can you love. \n",
    "I love Python if you do not love something which can give you all the capabilities to develop an application what else can you love.\"\"\"\n",
    "\n",
    "# Step 1: Clean the text (remove punctuation and convert to lowercase)\n",
    "cleaned_paragraph = re.sub(r'[^\\w\\s]', '', paragraph).lower()\n",
    "\n",
    "# Step 2: Split the text into words\n",
    "words = cleaned_paragraph.split()\n",
    "\n",
    "# Step 3: Count the occurrences of each word\n",
    "word_counts = Counter(words)\n",
    "\n",
    "# Step 4: Find the most frequent word(s)\n",
    "most_frequent_word = word_counts.most_common(1)\n",
    "\n",
    "# Output\n",
    "print(\"Most frequent word and its count:\", most_frequent_word)\n"
   ]
  },
  {
   "cell_type": "markdown",
   "metadata": {},
   "source": [
    "#### Distance Between the Furthest Particles"
   ]
  },
  {
   "cell_type": "code",
   "execution_count": 2,
   "metadata": {},
   "outputs": [
    {
     "name": "stdout",
     "output_type": "stream",
     "text": [
      "Extracted points: [-12, -4, -3, -1, 0, 4, 8]\n",
      "Sorted points: [-12, -4, -3, -1, 0, 4, 8]\n",
      "Distance between the furthest particles: 20\n"
     ]
    }
   ],
   "source": [
    "import re\n",
    "\n",
    "# Text containing particle positions\n",
    "text = \"\"\"The position of some particles on the horizontal x-axis are -12, -4, -3 and -1 in the negative direction, 0 at origin, 4 and 8 in the positive direction.\"\"\"\n",
    "\n",
    "# Step 1: Extract the numbers\n",
    "points = list(map(int, re.findall(r'-?\\d+', text)))\n",
    "\n",
    "# Step 2: Sort the points\n",
    "sorted_points = sorted(points)\n",
    "\n",
    "# Step 3: Calculate the distance between the furthest particles\n",
    "distance = sorted_points[-1] - sorted_points[0]\n",
    "\n",
    "# Output\n",
    "print(\"Extracted points:\", points)\n",
    "print(\"Sorted points:\", sorted_points)\n",
    "print(\"Distance between the furthest particles:\", distance)\n"
   ]
  },
  {
   "cell_type": "markdown",
   "metadata": {},
   "source": [
    "### Valid Python Variable Name\n",
    "\n",
    "Valid python variable has the following features  \n",
    "* Must start with a letter or an underscore.\n",
    "* Can only contain alphanumeric characters and underscores.\n",
    "* Cannot start with a digit.\n",
    "* Cannot use Python reserved keywords."
   ]
  },
  {
   "cell_type": "code",
   "execution_count": 4,
   "metadata": {},
   "outputs": [
    {
     "name": "stdout",
     "output_type": "stream",
     "text": [
      "True\n",
      "False\n",
      "False\n",
      "True\n"
     ]
    }
   ],
   "source": [
    "import re\n",
    "\n",
    "def is_valid_variable(var_name):\n",
    "    # Check if the variable name matches the valid pattern\n",
    "    pattern = r'^[a-zA-Z_][a-zA-Z0-9_]*$'\n",
    "    return bool(re.match(pattern, var_name))\n",
    "\n",
    "# Test cases\n",
    "print(is_valid_variable('first_name'))\n",
    "print(is_valid_variable('first-name')) \n",
    "print(is_valid_variable('1first_name'))\n",
    "print(is_valid_variable('firstname')) \n"
   ]
  },
  {
   "cell_type": "markdown",
   "metadata": {},
   "source": [
    "#### exercise 3\n",
    "Clean Text and Find Most Frequent Words"
   ]
  },
  {
   "cell_type": "code",
   "execution_count": 5,
   "metadata": {},
   "outputs": [
    {
     "name": "stdout",
     "output_type": "stream",
     "text": [
      "Cleaned text: i am a teacher and i love teaching there is nothing as more rewarding as educating and empowering people i found teaching more interesting than any other jobs does this motivate you to be a teacher\n",
      "Most frequent words: [('i', 3), ('a', 2), ('teacher', 2)]\n"
     ]
    }
   ],
   "source": [
    "from collections import Counter\n",
    "import re\n",
    "\n",
    "# Original sentence\n",
    "sentence = '''%I $am@% a %tea@cher%, &and& I lo%#ve %tea@ching%;. There $is nothing; &as& mo@re rewarding as educa@ting &and& @emp%o@wering peo@ple. ;I found tea@ching m%o@re interesting tha@n any other %jo@bs. %Do@es thi%s mo@tivate yo@u to be a tea@cher!?'''\n",
    "\n",
    "def clean_text(text):\n",
    "    # Remove non-alphanumeric characters except spaces and convert to lowercase\n",
    "    cleaned = re.sub(r'[^\\w\\s]', '', text).lower()\n",
    "    return cleaned\n",
    "\n",
    "def most_frequent_words(text, top_n=3):\n",
    "    # Split text into words and count frequencies\n",
    "    words = text.split()\n",
    "    word_counts = Counter(words)\n",
    "    return word_counts.most_common(top_n)\n",
    "\n",
    "# Step 1: Clean the text\n",
    "cleaned_text = clean_text(sentence)\n",
    "\n",
    "# Step 2: Find the most frequent words\n",
    "top_words = most_frequent_words(cleaned_text)\n",
    "\n",
    "# Output\n",
    "print(\"Cleaned text:\", cleaned_text)\n",
    "print(\"Most frequent words:\", top_words)\n"
   ]
  }
 ],
 "metadata": {
  "kernelspec": {
   "display_name": "Python 3",
   "language": "python",
   "name": "python3"
  },
  "language_info": {
   "codemirror_mode": {
    "name": "ipython",
    "version": 3
   },
   "file_extension": ".py",
   "mimetype": "text/x-python",
   "name": "python",
   "nbconvert_exporter": "python",
   "pygments_lexer": "ipython3",
   "version": "3.13.0"
  }
 },
 "nbformat": 4,
 "nbformat_minor": 2
}
